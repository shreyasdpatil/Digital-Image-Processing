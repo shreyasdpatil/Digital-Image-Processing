{
  "nbformat": 4,
  "nbformat_minor": 0,
  "metadata": {
    "colab": {
      "name": "Assignment5b.ipynb",
      "version": "0.3.2",
      "provenance": [],
      "collapsed_sections": []
    },
    "kernelspec": {
      "name": "python3",
      "display_name": "Python 3"
    }
  },
  "cells": [
    {
      "metadata": {
        "id": "sj8S2xbImNox",
        "colab_type": "code",
        "colab": {}
      },
      "cell_type": "code",
      "source": [
        "#Name: Shreyas Patil\n",
        "#USC ID Number: 3220932311\n",
        "#USC Email: shreyasp@usc.edu\n",
        "#Submission Date: 4/7/2019\n",
        "\n",
        "import torch\n",
        "import torchvision\n",
        "import torchvision.transforms as transforms\n",
        "import torchvision.datasets as datasets\n",
        "import numpy as np\n",
        "import matplotlib.pyplot as plt\n",
        "use_cuda = True"
      ],
      "execution_count": 0,
      "outputs": []
    },
    {
      "metadata": {
        "id": "jsmrLIJx20H4",
        "colab_type": "text"
      },
      "cell_type": "markdown",
      "source": [
        "Load dataset"
      ]
    },
    {
      "metadata": {
        "id": "B2h_FePDmRFt",
        "colab_type": "code",
        "colab": {}
      },
      "cell_type": "code",
      "source": [
        "transform = transforms.Compose([transforms.ToTensor()])\n",
        "\n",
        "trainset = datasets.MNIST(root='./data', train=True, download=True, transform=transform)\n",
        "\n",
        "testset = datasets.MNIST(root='./data', train=False, download=True, transform=transform)\n",
        "\n",
        "trainloader = torch.utils.data.DataLoader(trainset, batch_size=25, shuffle=True, num_workers=6)\n",
        "\n",
        "testloader = torch.utils.data.DataLoader(testset, batch_size=25, shuffle=False, num_workers=6)"
      ],
      "execution_count": 0,
      "outputs": []
    },
    {
      "metadata": {
        "id": "W3WS5Q6Q2b9-",
        "colab_type": "text"
      },
      "cell_type": "markdown",
      "source": [
        "Define network"
      ]
    },
    {
      "metadata": {
        "id": "EG-aQLh7_y2m",
        "colab_type": "code",
        "colab": {}
      },
      "cell_type": "code",
      "source": [
        "import torch.nn as nn\n",
        "import torch.nn.functional as F\n",
        "\n",
        "class Net(nn.Module):\n",
        "    def __init__(self):\n",
        "        super(Net, self).__init__()\n",
        "        self.conv1 = nn.Conv2d(in_channels=1, out_channels=16, kernel_size=5, stride=1, padding=2)\n",
        "        self.pool = nn.MaxPool2d(2, 2)\n",
        "        self.conv2 = nn.Conv2d(in_channels=16, out_channels=16, kernel_size=5, stride=1)\n",
        "        self.fc1 = nn.Linear(16 * 5 * 5, 120)\n",
        "        self.fc2 = nn.Linear(120, 84)\n",
        "        self.fc3 = nn.Linear(84, 10)\n",
        "\n",
        "        \n",
        "    def forward(self, x):\n",
        "        x = self.pool(F.relu(self.conv1(x)))\n",
        "        x = self.pool(F.relu(self.conv2(x)))\n",
        "        x = x.view(-1, 16*5*5)\n",
        "        x = F.relu(self.fc1(x))\n",
        "        x = F.relu(self.fc2(x))\n",
        "        x = F.softmax(self.fc3(x))\n",
        "        return x \n",
        "network = Net()"
      ],
      "execution_count": 0,
      "outputs": []
    },
    {
      "metadata": {
        "id": "UxoCqXOl2hqB",
        "colab_type": "text"
      },
      "cell_type": "markdown",
      "source": [
        "Loss and optimization method"
      ]
    },
    {
      "metadata": {
        "id": "CYF8Ta7m_3HI",
        "colab_type": "code",
        "colab": {}
      },
      "cell_type": "code",
      "source": [
        "import torch.optim as optim\n",
        "criterion = nn.CrossEntropyLoss()\n",
        "optimizer = optim.SGD(network.parameters(), lr=0.01, momentum=0.9)"
      ],
      "execution_count": 0,
      "outputs": []
    },
    {
      "metadata": {
        "id": "h_eTF4S12oen",
        "colab_type": "text"
      },
      "cell_type": "markdown",
      "source": [
        "Training and Testing"
      ]
    },
    {
      "metadata": {
        "id": "54f9pytU_44S",
        "colab_type": "code",
        "outputId": "60b2685a-0c90-4785-c66b-0cb9d9a4e9a6",
        "colab": {
          "base_uri": "https://localhost:8080/",
          "height": 742
        }
      },
      "cell_type": "code",
      "source": [
        "device = torch.device(\"cuda:0\" if torch.cuda.is_available() else \"cpu\")\n",
        "network = network.to(device)\n",
        "accuracy11 = []\n",
        "accuracy12 = []\n",
        "for epoch in range(25):\n",
        "    total1 = 0\n",
        "    correct1 = 0\n",
        "    total2 = 0\n",
        "    correct2 = 0\n",
        "    for i, data in enumerate(trainloader):\n",
        "        inputs, labels = data\n",
        "        inputs, labels = inputs.to(device), labels.to(device)\n",
        "        optimizer.zero_grad()\n",
        "        outputs = network(inputs)\n",
        "        loss = criterion(outputs, labels)\n",
        "        loss.backward()           #Calculating the gradients\n",
        "        optimizer.step()     #Updates the parameters\n",
        "        \n",
        "    for testdata in testloader:\n",
        "        data, labels = testdata\n",
        "        data, labels = data.to(device), labels.to(device)\n",
        "        outputs = network(data)\n",
        "        _, predicted = torch.max(outputs, 1)\n",
        "        total1 += labels.size(0)\n",
        "        correct1 += (predicted == labels).sum().item()    \n",
        "      \n",
        "    \n",
        "    accuracy11.append(correct1 / total1)\n",
        "        \n",
        "    \n",
        "    for testdata in testloader:\n",
        "      testdata[0] = 1 - testdata[0]\n",
        "      data, labels = testdata\n",
        "      data, labels = data.to(device), labels.to(device)\n",
        "      outputs = network(data)\n",
        "      _, predicted = torch.max(outputs, 1)\n",
        "      total2 += labels.size(0)\n",
        "      correct2 += (predicted == labels).sum().item()\n",
        "      \n",
        "    accuracy12.append(correct2 / total2)\n",
        "    \n",
        "plt.plot(range(25), accuracy11) \n",
        "plt.xlabel(\"number of epochs\")\n",
        "plt.ylabel(\"Accuracy on original test\")\n",
        "plt.show()\n",
        "\n",
        "plt.plot(range(25), accuracy12)\n",
        "plt.xlabel(\"number of epochs\")\n",
        "plt.ylabel(\"Accuracy on negative test images\")\n",
        "plt.show()\n",
        "       "
      ],
      "execution_count": 0,
      "outputs": [
        {
          "output_type": "stream",
          "text": [
            "/usr/local/lib/python3.6/dist-packages/ipykernel_launcher.py:21: UserWarning: Implicit dimension choice for softmax has been deprecated. Change the call to include dim=X as an argument.\n"
          ],
          "name": "stderr"
        },
        {
          "output_type": "display_data",
          "data": {
            "image/png": "[encoded data removed]",
            "text/plain": [
              "<Figure size 576x396 with 1 Axes>"
            ]
          },
          "metadata": {
            "tags": []
          }
        },
        {
          "output_type": "display_data",
          "data": {
            "image/png": "[encoded data removed]",
            "text/plain": [
              "<Figure size 576x396 with 1 Axes>"
            ]
          },
          "metadata": {
            "tags": []
          }
        }
      ]
    },
    {
      "metadata": {
        "id": "tj9q1vcV0Bm8",
        "colab_type": "code",
        "outputId": "d7abc77a-3b29-45dd-f9d7-ff2bf7202216",
        "colab": {
          "base_uri": "https://localhost:8080/",
          "height": 457
        }
      },
      "cell_type": "code",
      "source": [
        "accuracy12\n"
      ],
      "execution_count": 0,
      "outputs": [
        {
          "output_type": "execute_result",
          "data": {
            "text/plain": [
              "[0.0334,\n",
              " 0.064,\n",
              " 0.173,\n",
              " 0.3323,\n",
              " 0.2149,\n",
              " 0.3931,\n",
              " 0.4361,\n",
              " 0.4749,\n",
              " 0.3011,\n",
              " 0.4423,\n",
              " 0.4875,\n",
              " 0.4957,\n",
              " 0.3752,\n",
              " 0.3685,\n",
              " 0.4129,\n",
              " 0.3966,\n",
              " 0.4333,\n",
              " 0.4482,\n",
              " 0.447,\n",
              " 0.4582,\n",
              " 0.4695,\n",
              " 0.4972,\n",
              " 0.48,\n",
              " 0.4875,\n",
              " 0.441]"
            ]
          },
          "metadata": {
            "tags": []
          },
          "execution_count": 7
        }
      ]
    },
    {
      "metadata": {
        "id": "OokmMSJ1zK5A",
        "colab_type": "text"
      },
      "cell_type": "markdown",
      "source": [
        "C)2) "
      ]
    },
    {
      "metadata": {
        "id": "j7kawIjB25Qd",
        "colab_type": "text"
      },
      "cell_type": "markdown",
      "source": [
        "Load dataset"
      ]
    },
    {
      "metadata": {
        "id": "YGYdNWe1egiC",
        "colab_type": "code",
        "colab": {}
      },
      "cell_type": "code",
      "source": [
        "transform = transforms.Compose([transforms.ToTensor()])\n",
        "\n",
        "trainset = datasets.MNIST(root='./data', train=True, download=True, transform=transform)\n",
        "\n",
        "testset = datasets.MNIST(root='./data', train=False, download=True, transform=transform)\n",
        "\n",
        "trainloader = torch.utils.data.DataLoader(trainset, batch_size=100, shuffle=True, num_workers=6)\n",
        "\n",
        "testloader = torch.utils.data.DataLoader(testset, batch_size=100, shuffle=False, num_workers=6)"
      ],
      "execution_count": 0,
      "outputs": []
    },
    {
      "metadata": {
        "id": "wJmRDt2B2v_-",
        "colab_type": "text"
      },
      "cell_type": "markdown",
      "source": [
        "Define network"
      ]
    },
    {
      "metadata": {
        "id": "ABZ2MpmnIwtF",
        "colab_type": "code",
        "colab": {}
      },
      "cell_type": "code",
      "source": [
        "import torch.nn as nn\n",
        "import torch.nn.functional as F\n",
        "\n",
        "class Net(nn.Module):\n",
        "    def __init__(self):\n",
        "        super(Net, self).__init__()\n",
        "        self.conv1 = nn.Conv2d(in_channels=1, out_channels=6, kernel_size=5, stride=1, padding=2)\n",
        "        self.pool = nn.MaxPool2d(2, 2)\n",
        "        self.conv2 = nn.Conv2d(in_channels=6, out_channels=16, kernel_size=5, stride=1)\n",
        "        self.fc1 = nn.Linear(16 * 5 * 5, 120)\n",
        "        self.fc2 = nn.Linear(120, 84)\n",
        "        self.fc3 = nn.Linear(84, 10)\n",
        "\n",
        "        \n",
        "    def forward(self, x):\n",
        "        x = self.pool(F.relu(self.conv1(x)))\n",
        "        x = self.pool(F.relu(self.conv2(x)))\n",
        "        x = x.view(-1, 16*5*5)\n",
        "        x = F.relu(self.fc1(x))\n",
        "        x = F.relu(self.fc2(x))\n",
        "        x = F.softmax(self.fc3(x))\n",
        "        return x \n",
        "    \n",
        "      \n",
        "network = Net()"
      ],
      "execution_count": 0,
      "outputs": []
    },
    {
      "metadata": {
        "id": "zUelhX0CFMVX",
        "colab_type": "code",
        "colab": {}
      },
      "cell_type": "code",
      "source": [
        "import torch.optim as optim\n",
        "criterion = nn.CrossEntropyLoss()\n",
        "optimizer = optim.SGD(network.parameters(), lr=0.01, momentum=0.9)"
      ],
      "execution_count": 0,
      "outputs": []
    },
    {
      "metadata": {
        "id": "vGVwdEU7zQjT",
        "colab_type": "code",
        "outputId": "689b5852-7475-4725-ea56-2421dded192e",
        "colab": {
          "base_uri": "https://localhost:8080/",
          "height": 742
        }
      },
      "cell_type": "code",
      "source": [
        "device = torch.device(\"cuda:0\" if torch.cuda.is_available() else \"cpu\")\n",
        "network = network.to(device)\n",
        "accuracy11 = []\n",
        "accuracy12 = []\n",
        "for epoch in range(25):\n",
        "    total1 = 0\n",
        "    correct1 = 0\n",
        "    total2 = 0\n",
        "    correct2 = 0\n",
        "    for i, data in enumerate(trainloader):\n",
        "        inputs, labels = data\n",
        "        inputs, labels = inputs.to(device), labels.to(device)\n",
        "        optimizer.zero_grad()\n",
        "        outputs = network(inputs)\n",
        "        loss = criterion(outputs, labels)\n",
        "        loss.backward()           #Calculating the gradients\n",
        "        optimizer.step()     #Updates the parameters\n",
        "    \n",
        "    \n",
        "        data[0] = 1 - data[0]\n",
        "        inputs, labels = data\n",
        "        inputs, labels = inputs.to(device), labels.to(device)\n",
        "        optimizer.zero_grad()\n",
        "        outputs = network(inputs)\n",
        "        loss = criterion(outputs, labels)\n",
        "        loss.backward()           #Calculating the gradients\n",
        "        optimizer.step()     #Updates the parameters\n",
        "        \n",
        "    with torch.no_grad():\n",
        "      for testdata in testloader:\n",
        "        data, labels = testdata\n",
        "        data, labels = data.to(device), labels.to(device)\n",
        "        outputs = network(data)\n",
        "        _, predicted = torch.max(outputs, 1)\n",
        "        total1 += labels.size(0)\n",
        "        correct1 += (predicted == labels).sum().item()\n",
        "      \n",
        "    accuracy11.append(correct1 / total1)\n",
        "    \n",
        "            \n",
        "    with torch.no_grad():  \n",
        "      for testdata in testloader:\n",
        "        testdata[0] = 1 - testdata[0]\n",
        "        data, labels = testdata\n",
        "        data, labels = data.to(device), labels.to(device)\n",
        "        outputs = network(data)\n",
        "        _, predicted = torch.max(outputs, 1)\n",
        "        total2 += labels.size(0)\n",
        "        correct2 += (predicted == labels).sum().item()\n",
        "      \n",
        "    accuracy12.append(correct2 / total2)\n",
        "    \n",
        "plt.plot(range(25), accuracy11) \n",
        "plt.xlabel(\"number of epochs\")\n",
        "plt.ylabel(\"Original test accuracy\")\n",
        "plt.show()\n",
        "\n",
        "plt.plot(range(25), accuracy12)\n",
        "plt.xlabel(\"number of epochs\")\n",
        "plt.ylabel(\"Negative test accuracy\")\n",
        "plt.show()"
      ],
      "execution_count": 0,
      "outputs": [
        {
          "output_type": "stream",
          "text": [
            "/usr/local/lib/python3.6/dist-packages/ipykernel_launcher.py:21: UserWarning: Implicit dimension choice for softmax has been deprecated. Change the call to include dim=X as an argument.\n"
          ],
          "name": "stderr"
        },
        {
          "output_type": "display_data",
          "data": {
            "image/png": "[encoded data removed]",
            "text/plain": [
              "<Figure size 576x396 with 1 Axes>"
            ]
          },
          "metadata": {
            "tags": []
          }
        },
        {
          "output_type": "display_data",
          "data": {
            "image/png": "[encoded data removed]",
            "text/plain": [
              "<Figure size 576x396 with 1 Axes>"
            ]
          },
          "metadata": {
            "tags": []
          }
        }
      ]
    },
    {
      "metadata": {
        "id": "kHBNkk82dFA-",
        "colab_type": "code",
        "outputId": "05b025a0-db79-4139-c6d2-9a351aacfaee",
        "colab": {
          "base_uri": "https://localhost:8080/",
          "height": 457
        }
      },
      "cell_type": "code",
      "source": [
        "accuracy12"
      ],
      "execution_count": 0,
      "outputs": [
        {
          "output_type": "execute_result",
          "data": {
            "text/plain": [
              "[0.1135,\n",
              " 0.7554,\n",
              " 0.8796,\n",
              " 0.8775,\n",
              " 0.8888,\n",
              " 0.9656,\n",
              " 0.9763,\n",
              " 0.9812,\n",
              " 0.9811,\n",
              " 0.9793,\n",
              " 0.982,\n",
              " 0.9822,\n",
              " 0.9829,\n",
              " 0.9844,\n",
              " 0.9816,\n",
              " 0.9854,\n",
              " 0.9839,\n",
              " 0.9847,\n",
              " 0.9852,\n",
              " 0.9859,\n",
              " 0.9858,\n",
              " 0.9838,\n",
              " 0.9853,\n",
              " 0.9865,\n",
              " 0.9854]"
            ]
          },
          "metadata": {
            "tags": []
          },
          "execution_count": 49
        }
      ]
    },
    {
      "metadata": {
        "id": "0p1YBX3jazoS",
        "colab_type": "code",
        "colab": {}
      },
      "cell_type": "code",
      "source": [
        ""
      ],
      "execution_count": 0,
      "outputs": []
    }
  ]
}