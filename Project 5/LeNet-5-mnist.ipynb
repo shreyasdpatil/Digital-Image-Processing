{
  "nbformat": 4,
  "nbformat_minor": 0,
  "metadata": {
    "colab": {
      "name": "Assignment 5.ipynb",
      "version": "0.3.2",
      "provenance": [],
      "collapsed_sections": []
    },
    "kernelspec": {
      "name": "python3",
      "display_name": "Python 3"
    },
    "accelerator": "GPU"
  },
  "cells": [
    {
      "metadata": {
        "id": "x43q_suREGTR",
        "colab_type": "code",
        "colab": {}
      },
      "cell_type": "code",
      "source": [
        "#Name: Shreyas Patil\n",
        "#USC ID Number: 3220932311\n",
        "#USC Email: shreyasp@usc.edu\n",
        "#Submission Date: 4/7/2019\n",
        "\n",
        "import torch\n",
        "import torchvision\n",
        "import torchvision.transforms as transforms\n",
        "import torchvision.datasets as datasets\n",
        "import numpy as np\n",
        "import matplotlib.pyplot as plt\n",
        "use_cuda = True"
      ],
      "execution_count": 0,
      "outputs": []
    },
    {
      "metadata": {
        "id": "t7UAG2WVtkrI",
        "colab_type": "code",
        "outputId": "a7adb35f-759d-4804-981e-475978f5f458",
        "colab": {
          "base_uri": "https://localhost:8080/",
          "height": 263
        }
      },
      "cell_type": "code",
      "source": [
        "transform = transforms.Compose([transforms.ToTensor()])\n",
        "\n",
        "trainset = datasets.MNIST(root='./data', train=True, download=True, transform=transform)\n",
        "\n",
        "testset = datasets.MNIST(root='./data', train=False, download=True, transform=transform)\n",
        "\n",
        "trainloader = torch.utils.data.DataLoader(trainset, batch_size=25, shuffle=True, num_workers=6)\n",
        "\n",
        "testloader = torch.utils.data.DataLoader(testset, batch_size=25, shuffle=False, num_workers=6)"
      ],
      "execution_count": 0,
      "outputs": [
        {
          "output_type": "stream",
          "text": [
            "\r0it [00:00, ?it/s]"
          ],
          "name": "stderr"
        },
        {
          "output_type": "stream",
          "text": [
            "Downloading http://yann.lecun.com/exdb/mnist/train-images-idx3-ubyte.gz to ./data/MNIST/raw/train-images-idx3-ubyte.gz\n"
          ],
          "name": "stdout"
        },
        {
          "output_type": "stream",
          "text": [
            "9920512it [00:01, 8758724.47it/s]                            \n"
          ],
          "name": "stderr"
        },
        {
          "output_type": "stream",
          "text": [
            "Extracting ./data/MNIST/raw/train-images-idx3-ubyte.gz\n"
          ],
          "name": "stdout"
        },
        {
          "output_type": "stream",
          "text": [
            "  0%|          | 0/28881 [00:00<?, ?it/s]"
          ],
          "name": "stderr"
        },
        {
          "output_type": "stream",
          "text": [
            "Downloading http://yann.lecun.com/exdb/mnist/train-labels-idx1-ubyte.gz to ./data/MNIST/raw/train-labels-idx1-ubyte.gz\n"
          ],
          "name": "stdout"
        },
        {
          "output_type": "stream",
          "text": [
            "32768it [00:00, 134446.71it/s]           \n",
            "  0%|          | 0/1648877 [00:00<?, ?it/s]"
          ],
          "name": "stderr"
        },
        {
          "output_type": "stream",
          "text": [
            "Extracting ./data/MNIST/raw/train-labels-idx1-ubyte.gz\n",
            "Downloading http://yann.lecun.com/exdb/mnist/t10k-images-idx3-ubyte.gz to ./data/MNIST/raw/t10k-images-idx3-ubyte.gz\n"
          ],
          "name": "stdout"
        },
        {
          "output_type": "stream",
          "text": [
            "1654784it [00:00, 2199198.15it/s]                            \n",
            "0it [00:00, ?it/s]"
          ],
          "name": "stderr"
        },
        {
          "output_type": "stream",
          "text": [
            "Extracting ./data/MNIST/raw/t10k-images-idx3-ubyte.gz\n",
            "Downloading http://yann.lecun.com/exdb/mnist/t10k-labels-idx1-ubyte.gz to ./data/MNIST/raw/t10k-labels-idx1-ubyte.gz\n"
          ],
          "name": "stdout"
        },
        {
          "output_type": "stream",
          "text": [
            "8192it [00:00, 50555.64it/s]            \n"
          ],
          "name": "stderr"
        },
        {
          "output_type": "stream",
          "text": [
            "Extracting ./data/MNIST/raw/t10k-labels-idx1-ubyte.gz\n",
            "Processing...\n",
            "Done!\n"
          ],
          "name": "stdout"
        }
      ]
    },
    {
      "metadata": {
        "id": "kapaO33sFsTc",
        "colab_type": "text"
      },
      "cell_type": "markdown",
      "source": [
        "Defining Network(Setting 1)"
      ]
    },
    {
      "metadata": {
        "id": "vQPyun7oKtDv",
        "colab_type": "code",
        "colab": {}
      },
      "cell_type": "code",
      "source": [
        "import torch.nn as nn\n",
        "import torch.nn.functional as F\n",
        "\n",
        "class Net(nn.Module):\n",
        "    def __init__(self):\n",
        "        super(Net, self).__init__()\n",
        "        self.conv1 = nn.Conv2d(in_channels=1, out_channels=6, kernel_size=5, stride=1, padding=2)\n",
        "        self.pool = nn.MaxPool2d(2, 2)\n",
        "        self.conv2 = nn.Conv2d(in_channels=6, out_channels=16, kernel_size=5, stride=1)\n",
        "        self.fc1 = nn.Linear(16 * 5 * 5, 120)\n",
        "        self.fc2 = nn.Linear(120, 84)\n",
        "        self.fc3 = nn.Linear(84, 10)\n",
        "\n",
        "        \n",
        "    def forward(self, x):\n",
        "        x = self.pool(F.relu(self.conv1(x)))\n",
        "        x = self.pool(F.relu(self.conv2(x)))\n",
        "        x = x.view(-1, 16*5*5)\n",
        "        x = F.relu(self.fc1(x))\n",
        "        x = F.relu(self.fc2(x))\n",
        "        x = F.softmax(self.fc3(x))\n",
        "        return x \n",
        "    \n",
        "      \n",
        "network = Net()"
      ],
      "execution_count": 0,
      "outputs": []
    },
    {
      "metadata": {
        "id": "r7MssVVjUSZi",
        "colab_type": "text"
      },
      "cell_type": "markdown",
      "source": [
        "Defining optimization method loss function"
      ]
    },
    {
      "metadata": {
        "id": "vWSnqU_fpTYI",
        "colab_type": "code",
        "colab": {}
      },
      "cell_type": "code",
      "source": [
        "import torch.optim as optim\n",
        "criterion = nn.CrossEntropyLoss()\n",
        "optimizer = optim.SGD(network.parameters(), lr=0.01, momentum=0.9)"
      ],
      "execution_count": 0,
      "outputs": []
    },
    {
      "metadata": {
        "id": "bo2WBih5UaXg",
        "colab_type": "text"
      },
      "cell_type": "markdown",
      "source": [
        "Training"
      ]
    },
    {
      "metadata": {
        "id": "4q-LxMwxpfZF",
        "colab_type": "code",
        "outputId": "f337c30b-fb84-43a3-a502-f4f932414360",
        "colab": {
          "base_uri": "https://localhost:8080/",
          "height": 742
        }
      },
      "cell_type": "code",
      "source": [
        "device = torch.device(\"cuda:0\" if torch.cuda.is_available() else \"cpu\")\n",
        "network = network.to(device)\n",
        "accuracy11 = []\n",
        "accuracy12 = []\n",
        "for epoch in range(25):  \n",
        "    total1 = 0\n",
        "    correct1 = 0\n",
        "    total2 = 0\n",
        "    correct2 = 0\n",
        "    for i, data in enumerate(trainloader):\n",
        "        inputs, labels = data\n",
        "        inputs, labels = inputs.to(device), labels.to(device)\n",
        "        optimizer.zero_grad()\n",
        "        outputs = network(inputs)\n",
        "        loss = criterion(outputs, labels)\n",
        "        loss.backward()           #Calculating the gradients\n",
        "        optimizer.step()     #Updates the parameters\n",
        "       \n",
        "        #Plotting training accuracy\n",
        "\n",
        "    for traindata in trainloader:\n",
        "        data, labels = traindata\n",
        "        data, labels = data.to(device), labels.to(device)\n",
        "        outputs = network(data)\n",
        "        _, predicted = torch.max(outputs, 1)\n",
        "        total1 += labels.size(0)\n",
        "        correct1 += (predicted == labels).sum().item()\n",
        "        \n",
        "#         newoutputs1 = network(inputs)\n",
        "#         _, predicted = torch.max(newoutputs1, 1)\n",
        "#         total1 += labels.size(0)\n",
        "#         correct1 += (predicted == labels).sum().item()\n",
        "    \n",
        "    accuracy11.append(correct1 / total1)\n",
        "    \n",
        "\n",
        "    for testdata in testloader:\n",
        "      data, labels = testdata\n",
        "      data, labels = data.to(device), labels.to(device)\n",
        "      outputs = network(data)\n",
        "      _, predicted = torch.max(outputs, 1)\n",
        "      total2 += labels.size(0)\n",
        "      correct2 += (predicted == labels).sum().item()\n",
        "      \n",
        "    accuracy12.append(correct2 / total2)\n",
        "      \n",
        "\n",
        "\n",
        "plt.plot(range(25), accuracy11) \n",
        "plt.xlabel(\"number of epochs\")\n",
        "plt.ylabel(\"Training accuracy\")\n",
        "plt.show()\n",
        "\n",
        "plt.plot(range(25), accuracy12)\n",
        "plt.xlabel(\"number of epochs\")\n",
        "plt.ylabel(\"Testing accuracy\")\n",
        "plt.show()"
      ],
      "execution_count": 0,
      "outputs": [
        {
          "output_type": "stream",
          "text": [
            "/usr/local/lib/python3.6/dist-packages/ipykernel_launcher.py:21: UserWarning: Implicit dimension choice for softmax has been deprecated. Change the call to include dim=X as an argument.\n"
          ],
          "name": "stderr"
        },
        {
          "output_type": "display_data",
          "data": {
            "image/png": "[encoded data removed]",
            "text/plain": [
              "<Figure size 576x396 with 1 Axes>"
            ]
          },
          "metadata": {
            "tags": []
          }
        },
        {
          "output_type": "display_data",
          "data": {
            "image/png": "[encoded data removed]",
            "text/plain": [
              "<Figure size 576x396 with 1 Axes>"
            ]
          },
          "metadata": {
            "tags": []
          }
        }
      ]
    },
    {
      "metadata": {
        "id": "OfH-FvJ3PssP",
        "colab_type": "code",
        "outputId": "665ad6f7-bfdf-471b-ea8e-5de6ac7b20f8",
        "colab": {
          "base_uri": "https://localhost:8080/",
          "height": 457
        }
      },
      "cell_type": "code",
      "source": [
        "accuracy12"
      ],
      "execution_count": 0,
      "outputs": [
        {
          "output_type": "execute_result",
          "data": {
            "text/plain": [
              "[0.931,\n",
              " 0.9632,\n",
              " 0.971,\n",
              " 0.9818,\n",
              " 0.9811,\n",
              " 0.9827,\n",
              " 0.9817,\n",
              " 0.9857,\n",
              " 0.9846,\n",
              " 0.9841,\n",
              " 0.9803,\n",
              " 0.988,\n",
              " 0.9883,\n",
              " 0.9881,\n",
              " 0.9864,\n",
              " 0.9845,\n",
              " 0.9819,\n",
              " 0.9874,\n",
              " 0.9844,\n",
              " 0.9839,\n",
              " 0.9913,\n",
              " 0.9891,\n",
              " 0.9877,\n",
              " 0.9868,\n",
              " 0.9873]"
            ]
          },
          "metadata": {
            "tags": []
          },
          "execution_count": 7
        }
      ]
    },
    {
      "metadata": {
        "id": "9GnIAnGKi0I_",
        "colab_type": "text"
      },
      "cell_type": "markdown",
      "source": [
        "Setting 2 (cahnging number of filters for 1st convolutional layer)"
      ]
    },
    {
      "metadata": {
        "id": "gIsw9JPMi2ZK",
        "colab_type": "code",
        "colab": {}
      },
      "cell_type": "code",
      "source": [
        "import torch.nn as nn\n",
        "import torch.nn.functional as F\n",
        "\n",
        "class Net(nn.Module):\n",
        "    def __init__(self):\n",
        "        super(Net, self).__init__()\n",
        "        self.conv1 = nn.Conv2d(in_channels=1, out_channels=16, kernel_size=5, stride=1, padding=2)\n",
        "        self.pool = nn.MaxPool2d(2, 2)\n",
        "        self.conv2 = nn.Conv2d(in_channels=16, out_channels=16, kernel_size=5, stride=1)\n",
        "        self.fc1 = nn.Linear(16 * 5 * 5, 120)\n",
        "        self.fc2 = nn.Linear(120, 84)\n",
        "        self.fc3 = nn.Linear(84, 10)\n",
        "\n",
        "        \n",
        "    def forward(self, x):\n",
        "        x = self.pool(F.relu(self.conv1(x)))\n",
        "        x = self.pool(F.relu(self.conv2(x)))\n",
        "        x = x.view(-1, 16*5*5)\n",
        "        x = F.relu(self.fc1(x))\n",
        "        x = F.relu(self.fc2(x))\n",
        "        x = F.softmax(self.fc3(x))\n",
        "        return x \n",
        "    \n",
        "      \n",
        "network = Net()"
      ],
      "execution_count": 0,
      "outputs": []
    },
    {
      "metadata": {
        "id": "uLzRdua5i-Vv",
        "colab_type": "code",
        "colab": {}
      },
      "cell_type": "code",
      "source": [
        "import torch.optim as optim\n",
        "criterion = nn.CrossEntropyLoss()\n",
        "optimizer = optim.SGD(network.parameters(), lr=0.01, momentum=0.9)"
      ],
      "execution_count": 0,
      "outputs": []
    },
    {
      "metadata": {
        "id": "i_q9AYptjLXs",
        "colab_type": "code",
        "outputId": "bbd33044-4e7a-4e87-b377-bbe69b161ae3",
        "colab": {
          "base_uri": "https://localhost:8080/",
          "height": 742
        }
      },
      "cell_type": "code",
      "source": [
        "device = torch.device(\"cuda:0\" if torch.cuda.is_available() else \"cpu\")\n",
        "network = network.to(device)\n",
        "accuracy21 = []\n",
        "accuracy22 = []\n",
        "for epoch in range(25):  \n",
        "    total1 = 0\n",
        "    correct1 = 0\n",
        "    total2 = 0\n",
        "    correct2 = 0\n",
        "    for i, data in enumerate(trainloader):\n",
        "        inputs, labels = data\n",
        "        inputs, labels = inputs.to(device), labels.to(device)\n",
        "        optimizer.zero_grad()\n",
        "        outputs = network(inputs)\n",
        "        loss = criterion(outputs, labels)\n",
        "        loss.backward()           #Calculating the gradients\n",
        "        optimizer.step()     #Updates the parameters\n",
        "       \n",
        "        #Plotting training accuracy\n",
        "    for traindata in trainloader:\n",
        "        data, labels = traindata\n",
        "        data, labels = data.to(device), labels.to(device)\n",
        "        outputs = network(data)\n",
        "        _, predicted = torch.max(outputs, 1)\n",
        "        total1 += labels.size(0)\n",
        "        correct1 += (predicted == labels).sum().item()    \n",
        "     \n",
        "#         newoutputs1 = network(inputs)\n",
        "#         _, predicted = torch.max(newoutputs1, 1)\n",
        "#         total1 += labels.size(0)\n",
        "#         correct1 += (predicted == labels).sum().item()\n",
        "    \n",
        "    accuracy21.append(correct1 / total1)\n",
        "    \n",
        "\n",
        "    for testdata in testloader:\n",
        "      data, labels = testdata\n",
        "      data, labels = data.to(device), labels.to(device)\n",
        "      outputs = network(data)\n",
        "      _, predicted = torch.max(outputs, 1)\n",
        "      total2 += labels.size(0)\n",
        "      correct2 += (predicted == labels).sum().item()\n",
        "      \n",
        "    accuracy22.append(correct2 / total2)\n",
        "      \n",
        "\n",
        "\n",
        "plt.plot(range(25), accuracy21) \n",
        "plt.xlabel(\"number of epochs\")\n",
        "plt.ylabel(\"Training accuracy\")\n",
        "plt.show()\n",
        "\n",
        "plt.plot(range(25), accuracy22) \n",
        "plt.xlabel(\"number of epochs\")\n",
        "plt.ylabel(\"Testing accuracy\")\n",
        "plt.show()"
      ],
      "execution_count": 0,
      "outputs": [
        {
          "output_type": "stream",
          "text": [
            "/usr/local/lib/python3.6/dist-packages/ipykernel_launcher.py:21: UserWarning: Implicit dimension choice for softmax has been deprecated. Change the call to include dim=X as an argument.\n"
          ],
          "name": "stderr"
        },
        {
          "output_type": "display_data",
          "data": {
            "image/png": "[encoded data removed]",
            "text/plain": [
              "<Figure size 576x396 with 1 Axes>"
            ]
          },
          "metadata": {
            "tags": []
          }
        },
        {
          "output_type": "display_data",
          "data": {
            "image/png": "[encoded data removed]",
            "text/plain": [
              "<Figure size 576x396 with 1 Axes>"
            ]
          },
          "metadata": {
            "tags": []
          }
        }
      ]
    },
    {
      "metadata": {
        "id": "JobrR-FGn3-e",
        "colab_type": "code",
        "outputId": "56bd41a3-9e7f-40ae-cd0e-574117e7a1ac",
        "colab": {
          "base_uri": "https://localhost:8080/",
          "height": 457
        }
      },
      "cell_type": "code",
      "source": [
        "accuracy22"
      ],
      "execution_count": 0,
      "outputs": [
        {
          "output_type": "execute_result",
          "data": {
            "text/plain": [
              "[0.9463,\n",
              " 0.9661,\n",
              " 0.9733,\n",
              " 0.9809,\n",
              " 0.9825,\n",
              " 0.9823,\n",
              " 0.985,\n",
              " 0.9818,\n",
              " 0.9862,\n",
              " 0.9855,\n",
              " 0.9847,\n",
              " 0.9851,\n",
              " 0.9892,\n",
              " 0.9867,\n",
              " 0.9898,\n",
              " 0.9888,\n",
              " 0.9898,\n",
              " 0.9898,\n",
              " 0.9889,\n",
              " 0.9877,\n",
              " 0.99,\n",
              " 0.9888,\n",
              " 0.9874,\n",
              " 0.9899,\n",
              " 0.9898]"
            ]
          },
          "metadata": {
            "tags": []
          },
          "execution_count": 11
        }
      ]
    },
    {
      "metadata": {
        "id": "RSpwWdz8ne5q",
        "colab_type": "text"
      },
      "cell_type": "markdown",
      "source": [
        "Setting 3 (Batch size changed)"
      ]
    },
    {
      "metadata": {
        "id": "1hMP2Pyhyx49",
        "colab_type": "code",
        "colab": {}
      },
      "cell_type": "code",
      "source": [
        "transform = transforms.Compose([transforms.ToTensor()])\n",
        "\n",
        "trainset = datasets.MNIST(root='./data', train=True, download=True, transform=transform)\n",
        "\n",
        "testset = datasets.MNIST(root='./data', train=False, download=True, transform=transform)\n",
        "\n",
        "trainloader = torch.utils.data.DataLoader(trainset, batch_size=160, shuffle=True, num_workers=6)\n",
        "\n",
        "testloader = torch.utils.data.DataLoader(testset, batch_size=160, shuffle=False, num_workers=6)"
      ],
      "execution_count": 0,
      "outputs": []
    },
    {
      "metadata": {
        "id": "BseXs-jQngrc",
        "colab_type": "code",
        "colab": {}
      },
      "cell_type": "code",
      "source": [
        "import torch.nn as nn\n",
        "import torch.nn.functional as F\n",
        "\n",
        "class Net(nn.Module):\n",
        "    def __init__(self):\n",
        "        super(Net, self).__init__()\n",
        "        self.conv1 = nn.Conv2d(in_channels=1, out_channels=6, kernel_size=5, stride=1, padding=2)\n",
        "        self.pool = nn.MaxPool2d(2, 2)\n",
        "        self.conv2 = nn.Conv2d(in_channels=6, out_channels=16, kernel_size=5, stride=1)\n",
        "        self.fc1 = nn.Linear(16 * 5 * 5, 120)\n",
        "        self.fc2 = nn.Linear(120, 84)\n",
        "        self.fc3 = nn.Linear(84, 10)\n",
        "\n",
        "        \n",
        "    def forward(self, x):\n",
        "        x = self.pool(F.relu(self.conv1(x)))\n",
        "        x = self.pool(F.relu(self.conv2(x)))\n",
        "        x = x.view(-1, 16*5*5)\n",
        "        x = F.relu(self.fc1(x))\n",
        "        x = F.relu(self.fc2(x))\n",
        "        x = F.softmax(self.fc3(x))\n",
        "        return x \n",
        "network = Net()"
      ],
      "execution_count": 0,
      "outputs": []
    },
    {
      "metadata": {
        "id": "eyvgAExUnsYE",
        "colab_type": "code",
        "colab": {}
      },
      "cell_type": "code",
      "source": [
        "import torch.optim as optim\n",
        "criterion = nn.CrossEntropyLoss()\n",
        "optimizer = optim.SGD(network.parameters(), lr=0.01, momentum=0.9)"
      ],
      "execution_count": 0,
      "outputs": []
    },
    {
      "metadata": {
        "id": "oKXQe1wRn8bB",
        "colab_type": "code",
        "outputId": "5b2428cf-793a-4ae2-90e6-798db52301cf",
        "colab": {
          "base_uri": "https://localhost:8080/",
          "height": 742
        }
      },
      "cell_type": "code",
      "source": [
        "device = torch.device(\"cuda:0\" if torch.cuda.is_available() else \"cpu\")\n",
        "network = network.to(device)\n",
        "accuracy31 = []\n",
        "accuracy32 = []\n",
        "for epoch in range(25):  \n",
        "    total1 = 0\n",
        "    correct1 = 0\n",
        "    total2 = 0\n",
        "    correct2 = 0\n",
        "    for i, data in enumerate(trainloader):\n",
        "        inputs, labels = data\n",
        "        inputs, labels = inputs.to(device), labels.to(device)\n",
        "        optimizer.zero_grad()\n",
        "        outputs = network(inputs)\n",
        "        loss = criterion(outputs, labels)\n",
        "        loss.backward()           #Calculating the gradients\n",
        "        optimizer.step()     #Updates the parameters\n",
        "       \n",
        "    for traindata in trainloader:\n",
        "        data, labels = traindata\n",
        "        data, labels = data.to(device), labels.to(device)\n",
        "        outputs = network(data)\n",
        "        _, predicted = torch.max(outputs, 1)\n",
        "        total1 += labels.size(0)\n",
        "        correct1 += (predicted == labels).sum().item()     \n",
        "     \n",
        "#         newoutputs1 = network(inputs)\n",
        "#         _, predicted = torch.max(newoutputs1, 1)\n",
        "#         total1 += labels.size(0)\n",
        "#         correct1 += (predicted == labels).sum().item()\n",
        "    \n",
        "    accuracy31.append(correct1 / total1)\n",
        "    \n",
        "\n",
        "    for testdata in testloader:\n",
        "      data, labels = testdata\n",
        "      data, labels = data.to(device), labels.to(device)\n",
        "      outputs = network(data)\n",
        "      _, predicted = torch.max(outputs, 1)\n",
        "      total2 += labels.size(0)\n",
        "      correct2 += (predicted == labels).sum().item()\n",
        "      \n",
        "    accuracy32.append(correct2 / total2)\n",
        "      \n",
        "\n",
        "\n",
        "plt.plot(range(25), accuracy31) \n",
        "plt.xlabel(\"number of epochs\")\n",
        "plt.ylabel(\"Training accuracy\")\n",
        "plt.show()\n",
        "\n",
        "plt.plot(range(25), accuracy32) \n",
        "plt.xlabel(\"number of epochs\")\n",
        "plt.ylabel(\"Testing accuracy\")\n",
        "plt.show()"
      ],
      "execution_count": 0,
      "outputs": [
        {
          "output_type": "stream",
          "text": [
            "/usr/local/lib/python3.6/dist-packages/ipykernel_launcher.py:21: UserWarning: Implicit dimension choice for softmax has been deprecated. Change the call to include dim=X as an argument.\n"
          ],
          "name": "stderr"
        },
        {
          "output_type": "display_data",
          "data": {
            "image/png": "[encoded data removed]",
            "text/plain": [
              "<Figure size 576x396 with 1 Axes>"
            ]
          },
          "metadata": {
            "tags": []
          }
        },
        {
          "output_type": "display_data",
          "data": {
            "image/png": "[encoded data removed]",
            "text/plain": [
              "<Figure size 576x396 with 1 Axes>"
            ]
          },
          "metadata": {
            "tags": []
          }
        }
      ]
    },
    {
      "metadata": {
        "id": "KqbFu_nfyNZJ",
        "colab_type": "code",
        "outputId": "477f210f-8fd0-4f32-df4c-378be40599f0",
        "colab": {
          "base_uri": "https://localhost:8080/",
          "height": 167
        }
      },
      "cell_type": "code",
      "source": [
        "accuracy1"
      ],
      "execution_count": 0,
      "outputs": [
        {
          "output_type": "error",
          "ename": "NameError",
          "evalue": "ignored",
          "traceback": [
            "\u001b[0;31m---------------------------------------------------------------------------\u001b[0m",
            "\u001b[0;31mNameError\u001b[0m                                 Traceback (most recent call last)",
            "\u001b[0;32m<ipython-input-16-bb72c3b526e7>\u001b[0m in \u001b[0;36m<module>\u001b[0;34m()\u001b[0m\n\u001b[0;32m----> 1\u001b[0;31m \u001b[0maccuracy1\u001b[0m\u001b[0;34m\u001b[0m\u001b[0;34m\u001b[0m\u001b[0m\n\u001b[0m",
            "\u001b[0;31mNameError\u001b[0m: name 'accuracy1' is not defined"
          ]
        }
      ]
    },
    {
      "metadata": {
        "id": "d5dIc5JdTQX0",
        "colab_type": "text"
      },
      "cell_type": "markdown",
      "source": [
        "Setting 4 (optimizer changed)"
      ]
    },
    {
      "metadata": {
        "id": "7xGpyxCvTMt4",
        "colab_type": "code",
        "colab": {}
      },
      "cell_type": "code",
      "source": [
        "transform = transforms.Compose([transforms.ToTensor()])\n",
        "\n",
        "trainset = datasets.MNIST(root='./data', train=True, download=True, transform=transform)\n",
        "\n",
        "testset = datasets.MNIST(root='./data', train=False, download=True, transform=transform)\n",
        "\n",
        "trainloader = torch.utils.data.DataLoader(trainset, batch_size=25, shuffle=True, num_workers=6)\n",
        "\n",
        "testloader = torch.utils.data.DataLoader(testset, batch_size=25, shuffle=False, num_workers=6)"
      ],
      "execution_count": 0,
      "outputs": []
    },
    {
      "metadata": {
        "id": "PLUASKF3TUQ2",
        "colab_type": "code",
        "colab": {}
      },
      "cell_type": "code",
      "source": [
        "import torch.nn as nn\n",
        "import torch.nn.functional as F\n",
        "\n",
        "class Net(nn.Module):\n",
        "    def __init__(self):\n",
        "        super(Net, self).__init__()\n",
        "        self.conv1 = nn.Conv2d(in_channels=1, out_channels=6, kernel_size=5, stride=1, padding=2)\n",
        "        self.pool = nn.MaxPool2d(2, 2)\n",
        "        self.conv2 = nn.Conv2d(in_channels=6, out_channels=16, kernel_size=5, stride=1)\n",
        "        self.fc1 = nn.Linear(16 * 5 * 5, 120)\n",
        "        self.fc2 = nn.Linear(120, 84)\n",
        "        self.fc3 = nn.Linear(84, 10)\n",
        "\n",
        "        \n",
        "    def forward(self, x):\n",
        "        x = self.pool(F.relu(self.conv1(x)))\n",
        "        x = self.pool(F.relu(self.conv2(x)))\n",
        "        x = x.view(-1, 16*5*5)\n",
        "        x = F.relu(self.fc1(x))\n",
        "        x = F.relu(self.fc2(x))\n",
        "        x = F.softmax(self.fc3(x))\n",
        "        return x \n",
        "    \n",
        "      \n",
        "network = Net()"
      ],
      "execution_count": 0,
      "outputs": []
    },
    {
      "metadata": {
        "id": "X5VtmeXMTZhI",
        "colab_type": "code",
        "colab": {}
      },
      "cell_type": "code",
      "source": [
        "import torch.optim as optim\n",
        "criterion = nn.CrossEntropyLoss()\n",
        "optimizer = optim.Adam(network.parameters())"
      ],
      "execution_count": 0,
      "outputs": []
    },
    {
      "metadata": {
        "id": "Q3RFKasLTdS9",
        "colab_type": "code",
        "outputId": "6973e405-bfeb-4d99-a613-af1c354ed872",
        "colab": {
          "base_uri": "https://localhost:8080/",
          "height": 742
        }
      },
      "cell_type": "code",
      "source": [
        "device = torch.device(\"cuda:0\" if torch.cuda.is_available() else \"cpu\")\n",
        "network = network.to(device)\n",
        "accuracy41 = []\n",
        "accuracy42 = []\n",
        "for epoch in range(25):  \n",
        "    total1 = 0\n",
        "    correct1 = 0\n",
        "    total2 = 0\n",
        "    correct2 = 0\n",
        "    for i, data in enumerate(trainloader):\n",
        "        inputs, labels = data\n",
        "        inputs, labels = inputs.to(device), labels.to(device)\n",
        "        optimizer.zero_grad()\n",
        "        outputs = network(inputs)\n",
        "        loss = criterion(outputs, labels)\n",
        "        loss.backward()           #Calculating the gradients\n",
        "        optimizer.step()     #Updates the parameters\n",
        "       \n",
        "    for traindata in trainloader:\n",
        "        data, labels = traindata\n",
        "        data, labels = data.to(device), labels.to(device)\n",
        "        outputs = network(data)\n",
        "        _, predicted = torch.max(outputs, 1)\n",
        "        total1 += labels.size(0)\n",
        "        correct1 += (predicted == labels).sum().item() \n",
        "        \n",
        "#         newoutputs1 = network(inputs)\n",
        "#         _, predicted = torch.max(newoutputs1, 1)\n",
        "#         total1 += labels.size(0)\n",
        "#         correct1 += (predicted == labels).sum().item()\n",
        "    \n",
        "    accuracy41.append(correct1 / total1)\n",
        "    \n",
        "\n",
        "    for testdata in testloader:\n",
        "      data, labels = testdata\n",
        "      data, labels = data.to(device), labels.to(device)\n",
        "      outputs = network(data)\n",
        "      _, predicted = torch.max(outputs, 1)\n",
        "      total2 += labels.size(0)\n",
        "      correct2 += (predicted == labels).sum().item()\n",
        "      \n",
        "    accuracy42.append(correct2 / total2)\n",
        "      \n",
        "\n",
        "\n",
        "plt.plot(range(25), accuracy41) \n",
        "plt.xlabel(\"number of epochs\")\n",
        "plt.ylabel(\"Training accuracy\")\n",
        "plt.show()\n",
        "\n",
        "plt.plot(range(25), accuracy42) \n",
        "plt.xlabel(\"number of epochs\")\n",
        "plt.ylabel(\"Testing accuracy\")\n",
        "plt.show()"
      ],
      "execution_count": 0,
      "outputs": [
        {
          "output_type": "stream",
          "text": [
            "/usr/local/lib/python3.6/dist-packages/ipykernel_launcher.py:21: UserWarning: Implicit dimension choice for softmax has been deprecated. Change the call to include dim=X as an argument.\n"
          ],
          "name": "stderr"
        },
        {
          "output_type": "display_data",
          "data": {
            "image/png": "[encoded data removed]",
            "text/plain": [
              "<Figure size 576x396 with 1 Axes>"
            ]
          },
          "metadata": {
            "tags": []
          }
        },
        {
          "output_type": "display_data",
          "data": {
            "image/png": "[encoded data removed]",
            "text/plain": [
              "<Figure size 576x396 with 1 Axes>"
            ]
          },
          "metadata": {
            "tags": []
          }
        }
      ]
    },
    {
      "metadata": {
        "id": "-X2wDIOpqskw",
        "colab_type": "code",
        "colab": {}
      },
      "cell_type": "code",
      "source": [
        "accuracy41"
      ],
      "execution_count": 0,
      "outputs": []
    },
    {
      "metadata": {
        "id": "ZgsK2Ys_VeEq",
        "colab_type": "text"
      },
      "cell_type": "markdown",
      "source": [
        "Setting 5 (filter size changed in both convolutional layers)"
      ]
    },
    {
      "metadata": {
        "id": "IkDZR_7LVcSm",
        "colab_type": "code",
        "colab": {}
      },
      "cell_type": "code",
      "source": [
        "transform = transforms.Compose([transforms.ToTensor()])\n",
        "\n",
        "trainset = datasets.MNIST(root='./data', train=True, download=True, transform=transform)\n",
        "\n",
        "testset = datasets.MNIST(root='./data', train=False, download=True, transform=transform)\n",
        "\n",
        "trainloader = torch.utils.data.DataLoader(trainset, batch_size=25, shuffle=True, num_workers=6)\n",
        "\n",
        "testloader = torch.utils.data.DataLoader(testset, batch_size=25, shuffle=False, num_workers=6)"
      ],
      "execution_count": 0,
      "outputs": []
    },
    {
      "metadata": {
        "id": "Ar8q34F0Vra9",
        "colab_type": "code",
        "colab": {}
      },
      "cell_type": "code",
      "source": [
        "import torch.nn as nn\n",
        "import torch.nn.functional as F\n",
        "\n",
        "class Net(nn.Module):\n",
        "    def __init__(self):\n",
        "        super(Net, self).__init__()\n",
        "        self.conv1 = nn.Conv2d(in_channels=1, out_channels=6, kernel_size=3, stride=1, padding=1)\n",
        "        self.pool = nn.MaxPool2d(2, 2)\n",
        "        self.conv2 = nn.Conv2d(in_channels=6, out_channels=16, kernel_size=3, stride=1)\n",
        "        self.fc1 = nn.Linear(16 * 6 * 6, 120)\n",
        "        self.fc2 = nn.Linear(120, 84)\n",
        "        self.fc3 = nn.Linear(84, 10)\n",
        "\n",
        "        \n",
        "    def forward(self, x):\n",
        "        x = self.pool(F.relu(self.conv1(x)))\n",
        "        x = self.pool(F.relu(self.conv2(x)))\n",
        "        x = x.view(-1, 16*6*6)\n",
        "        x = F.relu(self.fc1(x))\n",
        "        x = F.relu(self.fc2(x))\n",
        "        x = F.softmax(self.fc3(x))\n",
        "        return x \n",
        "    \n",
        "      \n",
        "network = Net()"
      ],
      "execution_count": 0,
      "outputs": []
    },
    {
      "metadata": {
        "id": "TP90u4FAVwLK",
        "colab_type": "code",
        "colab": {}
      },
      "cell_type": "code",
      "source": [
        "import torch.optim as optim\n",
        "criterion = nn.CrossEntropyLoss()\n",
        "optimizer = optim.SGD(network.parameters(), lr=0.01, momentum=0.5)"
      ],
      "execution_count": 0,
      "outputs": []
    },
    {
      "metadata": {
        "id": "E1dkJIrSVzLH",
        "colab_type": "code",
        "outputId": "1852adfc-650c-449b-d832-90beec6a44b2",
        "colab": {
          "base_uri": "https://localhost:8080/",
          "height": 742
        }
      },
      "cell_type": "code",
      "source": [
        "device = torch.device(\"cuda:0\" if torch.cuda.is_available() else \"cpu\")\n",
        "network = network.to(device)\n",
        "accuracy51 = []\n",
        "accuracy52 = []\n",
        "for epoch in range(25):  \n",
        "    total1 = 0\n",
        "    correct1 = 0\n",
        "    total2 = 0\n",
        "    correct2 = 0\n",
        "    for i, data in enumerate(trainloader):\n",
        "        inputs, labels = data\n",
        "        inputs, labels = inputs.to(device), labels.to(device)\n",
        "        optimizer.zero_grad()\n",
        "        outputs = network(inputs)\n",
        "        loss = criterion(outputs, labels)\n",
        "        loss.backward()           #Calculating the gradients\n",
        "        optimizer.step()     #Updates the parameters\n",
        "       \n",
        "    for traindata in trainloader:\n",
        "        data, labels = traindata\n",
        "        data, labels = data.to(device), labels.to(device)\n",
        "        outputs = network(data)\n",
        "        _, predicted = torch.max(outputs, 1)\n",
        "        total1 += labels.size(0)\n",
        "        correct1 += (predicted == labels).sum().item() \n",
        "        \n",
        "#         newoutputs1 = network(inputs)\n",
        "#         _, predicted = torch.max(newoutputs1, 1)\n",
        "#         total1 += labels.size(0)\n",
        "#         correct1 += (predicted == labels).sum().item()\n",
        "    \n",
        "    accuracy51.append(correct1 / total1)\n",
        "    \n",
        "\n",
        "    for testdata in testloader:\n",
        "      data, labels = testdata\n",
        "      data, labels = data.to(device), labels.to(device)\n",
        "      outputs = network(data)\n",
        "      _, predicted = torch.max(outputs, 1)\n",
        "      total2 += labels.size(0)\n",
        "      correct2 += (predicted == labels).sum().item()\n",
        "      \n",
        "    accuracy52.append(correct2 / total2)\n",
        "      \n",
        "\n",
        "\n",
        "plt.plot(range(25), accuracy51) \n",
        "plt.xlabel(\"number of epochs\")\n",
        "plt.ylabel(\"Training accuracy\")\n",
        "plt.show()\n",
        "\n",
        "plt.plot(range(25), accuracy52) \n",
        "plt.xlabel(\"number of epochs\")\n",
        "plt.ylabel(\"Testing accuracy\")\n",
        "plt.show()"
      ],
      "execution_count": 0,
      "outputs": [
        {
          "output_type": "stream",
          "text": [
            "/usr/local/lib/python3.6/dist-packages/ipykernel_launcher.py:21: UserWarning: Implicit dimension choice for softmax has been deprecated. Change the call to include dim=X as an argument.\n"
          ],
          "name": "stderr"
        },
        {
          "output_type": "display_data",
          "data": {
            "image/png": "[encoded data removed]",
            "text/plain": [
              "<Figure size 576x396 with 1 Axes>"
            ]
          },
          "metadata": {
            "tags": []
          }
        },
        {
          "output_type": "display_data",
          "data": {
            "image/png": "[encoded data removed]",
            "text/plain": [
              "<Figure size 576x396 with 1 Axes>"
            ]
          },
          "metadata": {
            "tags": []
          }
        }
      ]
    },
    {
      "metadata": {
        "id": "sdGZWcm77eC4",
        "colab_type": "code",
        "colab": {}
      },
      "cell_type": "code",
      "source": [
        "accuracy51"
      ],
      "execution_count": 0,
      "outputs": []
    },
    {
      "metadata": {
        "id": "xS6bWkikvhB9",
        "colab_type": "text"
      },
      "cell_type": "markdown",
      "source": [
        "Calculating mean and variance of 5 parameter settings"
      ]
    },
    {
      "metadata": {
        "id": "zvECfwMP8qxj",
        "colab_type": "code",
        "colab": {}
      },
      "cell_type": "code",
      "source": [
        "acctrain = np.array([accuracy11[24], accuracy21[24], accuracy31[24], accuracy41[24], accuracy51[24]])\n",
        "acctest = np.array([accuracy12[24], accuracy22[24], accuracy32[24], accuracy42[24], accuracy52[24]])"
      ],
      "execution_count": 0,
      "outputs": []
    },
    {
      "metadata": {
        "id": "2EVHHyQgNV4W",
        "colab_type": "code",
        "outputId": "94a15676-1831-43c2-b254-82ecc1cffdee",
        "colab": {
          "base_uri": "https://localhost:8080/",
          "height": 34
        }
      },
      "cell_type": "code",
      "source": [
        "acctest"
      ],
      "execution_count": 0,
      "outputs": [
        {
          "output_type": "execute_result",
          "data": {
            "text/plain": [
              "array([0.9873, 0.9898, 0.9776, 0.9818, 0.984 ])"
            ]
          },
          "metadata": {
            "tags": []
          },
          "execution_count": 27
        }
      ]
    },
    {
      "metadata": {
        "id": "rG7IzpA1lv8A",
        "colab_type": "code",
        "outputId": "9a17104a-b33c-42af-8cb8-47189812f88a",
        "colab": {
          "base_uri": "https://localhost:8080/",
          "height": 34
        }
      },
      "cell_type": "code",
      "source": [
        "acctrain"
      ],
      "execution_count": 0,
      "outputs": [
        {
          "output_type": "execute_result",
          "data": {
            "text/plain": [
              "array([0.99276667, 0.99453333, 0.98395   , 0.98296667, 0.98741667])"
            ]
          },
          "metadata": {
            "tags": []
          },
          "execution_count": 26
        }
      ]
    },
    {
      "metadata": {
        "id": "B_xKyu4JnTyf",
        "colab_type": "code",
        "colab": {}
      },
      "cell_type": "code",
      "source": [
        "meantrain = np.mean(acctrain)\n",
        "meantest = np.mean(acctest)\n",
        "vartrain = np.var(acctrain)\n",
        "vartest = np.var(acctest)"
      ],
      "execution_count": 0,
      "outputs": []
    },
    {
      "metadata": {
        "id": "g-vC_fiNNuRb",
        "colab_type": "code",
        "colab": {}
      },
      "cell_type": "code",
      "source": [
        "vartest"
      ],
      "execution_count": 0,
      "outputs": []
    }
  ]
}